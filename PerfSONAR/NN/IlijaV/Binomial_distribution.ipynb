{
 "cells": [
  {
   "cell_type": "markdown",
   "metadata": {},
   "source": [
    "### the binomial distribution with parameters n and p is the discrete probability distribution of the number of successes in a sequence of n independent experiments, each asking a yes–no question, and each with its own boolean-valued outcome: a random variable containing single bit of information: success (with probability p) or failure (with probability q = 1 − p). "
   ]
  },
  {
   "cell_type": "code",
   "execution_count": 84,
   "metadata": {
    "scrolled": true
   },
   "outputs": [
    {
     "name": "stdout",
     "output_type": "stream",
     "text": [
      "p: 0.9230769230769231 q: 0.07692307692307687\n",
      "acc: 0.923076920116 \t\t\tcorrects: 11963.0768847 \tincorrs: 996.9231153\n"
     ]
    }
   ],
   "source": [
    "%matplotlib inline\n",
    "import numpy as np\n",
    "import pandas\n",
    "from scipy import special\n",
    "import matplotlib.pyplot as plt\n",
    "\n",
    "nb = 12960 \n",
    "# nb = 432 #24h\n",
    "nw = 1080\n",
    "# nw = 18\n",
    "tot = nb + nw \n",
    "\n",
    "p=nb/tot\n",
    "q=1-p\n",
    "print('p:',p, 'q:',q)\n",
    "\n",
    "nsim=10000000\n",
    "\n",
    "r = np.random.binomial(nb,p,size=nsim)\n",
    "accuracy =  pandas.Series(r/nb)\n",
    "print('acc:', accuracy.mean(), '\\t\\t\\tcorrects:', r.mean(), '\\tincorrs:', (nb-r).mean())"
   ]
  },
  {
   "cell_type": "code",
   "execution_count": 86,
   "metadata": {},
   "outputs": [
    {
     "name": "stdout",
     "output_type": "stream",
     "text": [
      "0.926698    0.941816\n",
      "0.926775    0.945603\n",
      "0.926852    0.949218\n",
      "0.926929    0.952631\n",
      "0.927006    0.955850\n",
      "0.927083    0.958856\n",
      "0.927160    0.961745\n",
      "0.927238    0.964439\n",
      "0.927315    0.966983\n",
      "0.927392    0.969363\n",
      "0.927469    0.971596\n",
      "0.927546    0.973710\n",
      "0.927623    0.975694\n",
      "0.927701    0.977577\n",
      "0.927778    0.979323\n",
      "0.927855    0.980946\n",
      "0.927932    0.982465\n",
      "0.928009    0.983874\n",
      "0.928086    0.985180\n",
      "0.928164    0.986389\n",
      "0.928241    0.987530\n",
      "0.928318    0.988601\n",
      "0.928395    0.989559\n",
      "0.928472    0.990460\n",
      "0.928549    0.991290\n",
      "0.928627    0.992064\n",
      "0.928704    0.992766\n",
      "0.928781    0.993404\n",
      "0.928858    0.993993\n",
      "0.928935    0.994551\n",
      "              ...   \n",
      "0.932099    0.999956\n",
      "0.932176    0.999961\n",
      "0.932253    0.999967\n",
      "0.932330    0.999972\n",
      "0.932407    0.999975\n",
      "0.932485    0.999979\n",
      "0.932562    0.999982\n",
      "0.932639    0.999984\n",
      "0.932716    0.999987\n",
      "0.932793    0.999989\n",
      "0.932870    0.999990\n",
      "0.932948    0.999992\n",
      "0.933025    0.999993\n",
      "0.933102    0.999994\n",
      "0.933179    0.999995\n",
      "0.933256    0.999996\n",
      "0.933333    0.999996\n",
      "0.933410    0.999997\n",
      "0.933488    0.999998\n",
      "0.933565    0.999998\n",
      "0.933642    0.999999\n",
      "0.933719    0.999999\n",
      "0.933796    0.999999\n",
      "0.933873    0.999999\n",
      "0.933951    0.999999\n",
      "0.934028    1.000000\n",
      "0.934182    1.000000\n",
      "0.934877    1.000000\n",
      "0.935031    1.000000\n",
      "0.935185    1.000000\n",
      "Length: 100, dtype: float64\n"
     ]
    },
    {
     "data": {
      "image/png": "[encoded data removed]",
      "text/plain": [
       "<matplotlib.figure.Figure at 0x7f67a4a18b00>"
      ]
     },
     "metadata": {},
     "output_type": "display_data"
    }
   ],
   "source": [
    "accuracy_norm = accuracy.value_counts().sort_index()/nsim\n",
    "# print(accuracy_norm.tail(50))\n",
    "cs=accuracy_norm.cumsum()\n",
    "print(cs.tail(100))\n",
    "\n",
    "fig, ax1 = plt.subplots()\n",
    "\n",
    "ax1.plot(accuracy_norm,'b')\n",
    "ax1.set_xlabel('accuracy')\n",
    "ax1.set_ylabel('pmf', color='b')\n",
    "\n",
    "ax2 = ax1.twinx()\n",
    "ax2.plot(cs,'r')\n",
    "ax2.set_ylabel('CDF', color='r')\n",
    "# ax2.set_ylim([0.9,1])\n",
    "ax1.xaxis.grid(True)\n",
    "plt.grid(True)\n",
    "plt.savefig('binomial_chance_accuracy')\n"
   ]
  },
  {
   "cell_type": "code",
   "execution_count": null,
   "metadata": {
    "collapsed": true
   },
   "outputs": [],
   "source": []
  }
 ],
 "metadata": {
  "kernelspec": {
   "display_name": "Python 3",
   "language": "python",
   "name": "python3"
  },
  "language_info": {
   "codemirror_mode": {
    "name": "ipython",
    "version": 3
   },
   "file_extension": ".py",
   "mimetype": "text/x-python",
   "name": "python",
   "nbconvert_exporter": "python",
   "pygments_lexer": "ipython3",
   "version": "3.4.5"
  }
 },
 "nbformat": 4,
 "nbformat_minor": 1
}
